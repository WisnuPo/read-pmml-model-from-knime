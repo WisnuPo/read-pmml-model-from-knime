{
 "cells": [
  {
   "cell_type": "code",
   "execution_count": 1,
   "metadata": {},
   "outputs": [
    {
     "name": "stdout",
     "output_type": "stream",
     "text": [
      "   predicted_Price\n",
      "0     18842.791464\n"
     ]
    }
   ],
   "source": [
    "# import library\n",
    "import pandas as pd\n",
    "from pypmml import Model\n",
    "\n",
    "# create example data to predict\n",
    "x_test = {\n",
    "    'Make': 'Ford', \n",
    "    'Model': 'Civic',\n",
    "    'Year': '2022',\n",
    "    'Mileage': 23145,\n",
    "    'Condition': 'Good'\n",
    "}\n",
    "\n",
    "data = pd.DataFrame([x_test])\n",
    "\n",
    "# Load the PMML model that has been created in KNIME \n",
    "model = Model.load('PMML Car.pmml')\n",
    "\n",
    "# create a model to make predictions\n",
    "predictions = model.predict(data)\n",
    "\n",
    "print(predictions)"
   ]
  },
  {
   "cell_type": "markdown",
   "metadata": {},
   "source": [
    "### With 2022 Ford Civic model specifications, mileage 23145, and good condition, predicted price is $18842."
   ]
  }
 ],
 "metadata": {
  "kernelspec": {
   "display_name": "Python 3",
   "language": "python",
   "name": "python3"
  },
  "language_info": {
   "codemirror_mode": {
    "name": "ipython",
    "version": 3
   },
   "file_extension": ".py",
   "mimetype": "text/x-python",
   "name": "python",
   "nbconvert_exporter": "python",
   "pygments_lexer": "ipython3",
   "version": "3.10.11"
  }
 },
 "nbformat": 4,
 "nbformat_minor": 2
}
